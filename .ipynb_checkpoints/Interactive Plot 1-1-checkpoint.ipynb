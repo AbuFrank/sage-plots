{
 "cells": [
  {
   "cell_type": "code",
   "execution_count": 4,
   "metadata": {},
   "outputs": [
    {
     "data": {
      "application/vnd.jupyter.widget-view+json": {
       "model_id": "0773f5343ec84cae9cb9f3b4192aa8af",
       "version_major": 2,
       "version_minor": 0
      },
      "text/plain": [
       "Interactive function <function _ at 0x7f8995b428c8> with 1 widget\n",
       "  mins: SelectionSlider(description='mins', …"
      ]
     },
     "metadata": {},
     "output_type": "display_data"
    }
   ],
   "source": [
    "g = 5 * x\n",
    "G = plot(g, 0, 100, thickness=2)\n",
    "C = plot(1.645 * x, 0, 100, color=\"cornflowerblue\", thickness=1)\n",
    "t1 = text(\"Subscription Gains\",(60, 450))\n",
    "@interact\n",
    "def _(mins=slider([5 .. 10])):\n",
    "    avgMins = .5 * .013 + .5 * .0085\n",
    "    cx = avgMins * (10 * mins) * x\n",
    "    Cx = plot(cx, 0, 100, color='red', thickness=2)\n",
    "    px = g - cx\n",
    "    Px = plot(px, 0, 100, color='green', thickness=2)\n",
    "    show(t1 + G + Cx + C + Px, ymin=-.5, ymax=1000)"
   ]
  }
 ],
 "metadata": {
  "kernelspec": {
   "display_name": "SageMath 9.1",
   "language": "sage",
   "name": "sagemath"
  },
  "language_info": {
   "codemirror_mode": {
    "name": "ipython",
    "version": 3
   },
   "file_extension": ".py",
   "mimetype": "text/x-python",
   "name": "python",
   "nbconvert_exporter": "python",
   "pygments_lexer": "ipython3",
   "version": "3.7.3"
  }
 },
 "nbformat": 4,
 "nbformat_minor": 2
}
