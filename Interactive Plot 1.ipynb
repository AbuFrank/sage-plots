{
 "cells": [
  {
   "cell_type": "code",
   "execution_count": 74,
   "metadata": {},
   "outputs": [
    {
     "data": {
      "application/vnd.jupyter.widget-view+json": {
       "model_id": "534b68be0d694e3b80a0555f814d1498",
       "version_major": 2,
       "version_minor": 0
      },
      "text/plain": [
       "Interactive function <function _ at 0x7f7302c44c80> with 1 widget\n",
       "  mins: SelectionSlider(description='mins', …"
      ]
     },
     "metadata": {},
     "output_type": "display_data"
    }
   ],
   "source": [
    "g = 5 * x\n",
    "G = plot(g, 0, 100, thickness=2)\n",
    "C = plot(1.645 * x, 0, 100, color=\"cornflowerblue\", thickness=1)\n",
    "@interact\n",
    "def _(mins=slider([5 .. 10])):\n",
    "    avgMins = 5 * .013 * mins + 5 * .0085 * mins\n",
    "    cx = avgMins * mins * x\n",
    "    Cx = plot(cx, 0, 100, color='red', thickness=2)\n",
    "    px = g - cx\n",
    "    Px = plot(px, 0, 100, color='green', thickness=2)\n",
    "    show(G + Cx + C + Px, ymin=-.5, ymax=1000)"
   ]
  }
 ],
 "metadata": {
  "kernelspec": {
   "display_name": "SageMath 9.1",
   "language": "sage",
   "name": "sagemath"
  },
  "language_info": {
   "codemirror_mode": {
    "name": "ipython",
    "version": 3
   },
   "file_extension": ".py",
   "mimetype": "text/x-python",
   "name": "python",
   "nbconvert_exporter": "python",
   "pygments_lexer": "ipython3",
   "version": "3.7.3"
  }
 },
 "nbformat": 4,
 "nbformat_minor": 2
}
